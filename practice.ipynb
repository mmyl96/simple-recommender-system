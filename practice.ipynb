{
 "cells": [
  {
   "cell_type": "code",
   "execution_count": 1,
   "metadata": {},
   "outputs": [],
   "source": [
    "import pandas as pd\n",
    "import numpy as np\n",
    "from config import config\n",
    "\n",
    "def read(path):\n",
    "    df = pd.read_csv(path)\n",
    "    return df"
   ]
  },
  {
   "cell_type": "code",
   "execution_count": 2,
   "metadata": {},
   "outputs": [],
   "source": [
    "df = read(config.file_path)"
   ]
  },
  {
   "cell_type": "code",
   "execution_count": 29,
   "metadata": {},
   "outputs": [
    {
     "data": {
      "text/plain": [
       "userId        610.0\n",
       "movieId    170875.0\n",
       "rating          3.0\n",
       "Name: 100835, dtype: float64"
      ]
     },
     "execution_count": 29,
     "metadata": {},
     "output_type": "execute_result"
    }
   ],
   "source": [
    "df.loc[100835]"
   ]
  },
  {
   "cell_type": "code",
   "execution_count": 20,
   "metadata": {},
   "outputs": [],
   "source": [
    "def save(df):\n",
    "    df.to_csv(\"./dataset/balanced.csv\")\n",
    "    return\n",
    "\n",
    "def convert_to_matrix(df):\n",
    "    nusers = int(df.loc[len(df)-1][0])\n",
    "    nmovies = int(df.loc[len(df)-1][1])\n",
    "    ratings = np.zeros(shape=(nusers,nmovies))\n",
    "    avg = df[\"rating\"].mean()\n",
    "    for i in range(len(df)):\n",
    "        userID = int(df.loc[i][0])\n",
    "        movieID = int(df.loc[i][1])\n",
    "        rating = float(df.loc[i][2])\n",
    "        ratings[userID, movieID] = rating - avg\n",
    "    return ratings"
   ]
  },
  {
   "cell_type": "code",
   "execution_count": 21,
   "metadata": {},
   "outputs": [
    {
     "name": "stdout",
     "output_type": "stream",
     "text": [
      "      Name  age  total\n",
      "0   Parker   32     99\n",
      "1    Smith   28     99\n",
      "2  William   39     99\n"
     ]
    }
   ],
   "source": [
    "def learning(learning_rate, epoch, ratings):\n",
    "    V = np.zeros(ratings.shape[0])\n",
    "    U = np.zeros(ratings.shape[1])\n",
    "    for _ in range(epoch):\n",
    "        F = np.add.outer(V,U)\n",
    "        gradient_V = np.sum(ratings-F, axis = 1) - 2*config.lamda*V\n",
    "        gradient_U = np.sum(ratings-F, axis = 0) - 2*config.lamda*U\n",
    "        V += 2*learning_rate*gradient_V\n",
    "        U += 2*learning_rate*gradient_U\n",
    "    return V, U"
   ]
  },
  {
   "cell_type": "code",
   "execution_count": 33,
   "metadata": {},
   "outputs": [],
   "source": [
    "from random import *\n",
    "\n",
    "V = np.array([randint(-10, 10) for i in range(20)])\n",
    "U = np.array([randint(-10, 10) for i in range(10)])"
   ]
  },
  {
   "cell_type": "code",
   "execution_count": 39,
   "metadata": {},
   "outputs": [],
   "source": [
    "F = np.add.outer(V,U)"
   ]
  },
  {
   "cell_type": "code",
   "execution_count": 40,
   "metadata": {},
   "outputs": [
    {
     "data": {
      "text/plain": [
       "(array([-2, 10,  0,  7,  0,  2, -8, -8, -3,  2, 10, -2, -6,  2,  9,  1, -9,\n",
       "        -6,  5, -3]),\n",
       " array([ 2, -1, -2,  6, -8, -7,  8, -8, -7, -4]),\n",
       " array([[  0,  -3,  -4,   4, -10,  -9,   6, -10,  -9,  -6],\n",
       "        [ 12,   9,   8,  16,   2,   3,  18,   2,   3,   6],\n",
       "        [  2,  -1,  -2,   6,  -8,  -7,   8,  -8,  -7,  -4],\n",
       "        [  9,   6,   5,  13,  -1,   0,  15,  -1,   0,   3],\n",
       "        [  2,  -1,  -2,   6,  -8,  -7,   8,  -8,  -7,  -4],\n",
       "        [  4,   1,   0,   8,  -6,  -5,  10,  -6,  -5,  -2],\n",
       "        [ -6,  -9, -10,  -2, -16, -15,   0, -16, -15, -12],\n",
       "        [ -6,  -9, -10,  -2, -16, -15,   0, -16, -15, -12],\n",
       "        [ -1,  -4,  -5,   3, -11, -10,   5, -11, -10,  -7],\n",
       "        [  4,   1,   0,   8,  -6,  -5,  10,  -6,  -5,  -2],\n",
       "        [ 12,   9,   8,  16,   2,   3,  18,   2,   3,   6],\n",
       "        [  0,  -3,  -4,   4, -10,  -9,   6, -10,  -9,  -6],\n",
       "        [ -4,  -7,  -8,   0, -14, -13,   2, -14, -13, -10],\n",
       "        [  4,   1,   0,   8,  -6,  -5,  10,  -6,  -5,  -2],\n",
       "        [ 11,   8,   7,  15,   1,   2,  17,   1,   2,   5],\n",
       "        [  3,   0,  -1,   7,  -7,  -6,   9,  -7,  -6,  -3],\n",
       "        [ -7, -10, -11,  -3, -17, -16,  -1, -17, -16, -13],\n",
       "        [ -4,  -7,  -8,   0, -14, -13,   2, -14, -13, -10],\n",
       "        [  7,   4,   3,  11,  -3,  -2,  13,  -3,  -2,   1],\n",
       "        [ -1,  -4,  -5,   3, -11, -10,   5, -11, -10,  -7]]))"
      ]
     },
     "execution_count": 40,
     "metadata": {},
     "output_type": "execute_result"
    }
   ],
   "source": [
    "V, U, F"
   ]
  },
  {
   "cell_type": "code",
   "execution_count": 42,
   "metadata": {},
   "outputs": [
    {
     "data": {
      "text/plain": [
       "((20,), (10,), (20, 10))"
      ]
     },
     "execution_count": 42,
     "metadata": {},
     "output_type": "execute_result"
    }
   ],
   "source": [
    "V.shape, U.shape, F.shape"
   ]
  },
  {
   "cell_type": "code",
   "execution_count": 46,
   "metadata": {},
   "outputs": [
    {
     "data": {
      "text/plain": [
       "array([[False,  True,  True,  True,  True,  True,  True,  True,  True,\n",
       "         True],\n",
       "       [ True,  True,  True,  True,  True,  True,  True,  True,  True,\n",
       "         True],\n",
       "       [ True,  True,  True,  True,  True,  True,  True,  True,  True,\n",
       "         True],\n",
       "       [ True,  True,  True,  True,  True, False,  True,  True, False,\n",
       "         True],\n",
       "       [ True,  True,  True,  True,  True,  True,  True,  True,  True,\n",
       "         True],\n",
       "       [ True,  True, False,  True,  True,  True,  True,  True,  True,\n",
       "         True],\n",
       "       [ True,  True,  True,  True,  True,  True, False,  True,  True,\n",
       "         True],\n",
       "       [ True,  True,  True,  True,  True,  True, False,  True,  True,\n",
       "         True],\n",
       "       [ True,  True,  True,  True,  True,  True,  True,  True,  True,\n",
       "         True],\n",
       "       [ True,  True, False,  True,  True,  True,  True,  True,  True,\n",
       "         True],\n",
       "       [ True,  True,  True,  True,  True,  True,  True,  True,  True,\n",
       "         True],\n",
       "       [False,  True,  True,  True,  True,  True,  True,  True,  True,\n",
       "         True],\n",
       "       [ True,  True,  True, False,  True,  True,  True,  True,  True,\n",
       "         True],\n",
       "       [ True,  True, False,  True,  True,  True,  True,  True,  True,\n",
       "         True],\n",
       "       [ True,  True,  True,  True,  True,  True,  True,  True,  True,\n",
       "         True],\n",
       "       [ True, False,  True,  True,  True,  True,  True,  True,  True,\n",
       "         True],\n",
       "       [ True,  True,  True,  True,  True,  True,  True,  True,  True,\n",
       "         True],\n",
       "       [ True,  True,  True, False,  True,  True,  True,  True,  True,\n",
       "         True],\n",
       "       [ True,  True,  True,  True,  True,  True,  True,  True,  True,\n",
       "         True],\n",
       "       [ True,  True,  True,  True,  True,  True,  True,  True,  True,\n",
       "         True]])"
      ]
     },
     "execution_count": 46,
     "metadata": {},
     "output_type": "execute_result"
    }
   ],
   "source": []
  },
  {
   "cell_type": "code",
   "execution_count": null,
   "metadata": {},
   "outputs": [],
   "source": []
  }
 ],
 "metadata": {
  "kernelspec": {
   "display_name": "Python 3",
   "language": "python",
   "name": "python3"
  },
  "language_info": {
   "codemirror_mode": {
    "name": "ipython",
    "version": 3
   },
   "file_extension": ".py",
   "mimetype": "text/x-python",
   "name": "python",
   "nbconvert_exporter": "python",
   "pygments_lexer": "ipython3",
   "version": "3.6.4"
  }
 },
 "nbformat": 4,
 "nbformat_minor": 2
}
