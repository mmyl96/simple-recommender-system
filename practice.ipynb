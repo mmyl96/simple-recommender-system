{
 "cells": [
  {
   "cell_type": "code",
   "execution_count": 1,
   "metadata": {},
   "outputs": [],
   "source": [
    "import pandas as pd\n",
    "import numpy as np\n",
    "from config import config\n",
    "\n",
    "def read(path):\n",
    "    df = pd.read_csv(path)\n",
    "    return df"
   ]
  },
  {
   "cell_type": "code",
   "execution_count": 5,
   "metadata": {},
   "outputs": [],
   "source": [
    "df = read(\"./dataset/balanced.csv\")\n",
    "df = df.drop(columns = ['Unnamed: 0'])"
   ]
  },
  {
   "cell_type": "code",
   "execution_count": 33,
   "metadata": {},
   "outputs": [
    {
     "data": {
      "text/html": [
       "<div>\n",
       "<style scoped>\n",
       "    .dataframe tbody tr th:only-of-type {\n",
       "        vertical-align: middle;\n",
       "    }\n",
       "\n",
       "    .dataframe tbody tr th {\n",
       "        vertical-align: top;\n",
       "    }\n",
       "\n",
       "    .dataframe thead th {\n",
       "        text-align: right;\n",
       "    }\n",
       "</style>\n",
       "<table border=\"1\" class=\"dataframe\">\n",
       "  <thead>\n",
       "    <tr style=\"text-align: right;\">\n",
       "      <th></th>\n",
       "      <th>Unnamed: 0</th>\n",
       "      <th>userID</th>\n",
       "      <th>bias</th>\n",
       "    </tr>\n",
       "  </thead>\n",
       "  <tbody>\n",
       "    <tr>\n",
       "      <th>0</th>\n",
       "      <td>0</td>\n",
       "      <td>1</td>\n",
       "      <td>0.677390</td>\n",
       "    </tr>\n",
       "    <tr>\n",
       "      <th>1</th>\n",
       "      <td>1</td>\n",
       "      <td>2</td>\n",
       "      <td>-0.085523</td>\n",
       "    </tr>\n",
       "    <tr>\n",
       "      <th>2</th>\n",
       "      <td>2</td>\n",
       "      <td>3</td>\n",
       "      <td>-1.295665</td>\n",
       "    </tr>\n",
       "    <tr>\n",
       "      <th>3</th>\n",
       "      <td>3</td>\n",
       "      <td>4</td>\n",
       "      <td>-0.353015</td>\n",
       "    </tr>\n",
       "    <tr>\n",
       "      <th>4</th>\n",
       "      <td>4</td>\n",
       "      <td>5</td>\n",
       "      <td>-0.173535</td>\n",
       "    </tr>\n",
       "    <tr>\n",
       "      <th>...</th>\n",
       "      <td>...</td>\n",
       "      <td>...</td>\n",
       "      <td>...</td>\n",
       "    </tr>\n",
       "    <tr>\n",
       "      <th>605</th>\n",
       "      <td>605</td>\n",
       "      <td>606</td>\n",
       "      <td>-0.043915</td>\n",
       "    </tr>\n",
       "    <tr>\n",
       "      <th>606</th>\n",
       "      <td>606</td>\n",
       "      <td>607</td>\n",
       "      <td>0.140626</td>\n",
       "    </tr>\n",
       "    <tr>\n",
       "      <th>607</th>\n",
       "      <td>607</td>\n",
       "      <td>608</td>\n",
       "      <td>-0.339125</td>\n",
       "    </tr>\n",
       "    <tr>\n",
       "      <th>608</th>\n",
       "      <td>608</td>\n",
       "      <td>609</td>\n",
       "      <td>-0.325961</td>\n",
       "    </tr>\n",
       "    <tr>\n",
       "      <th>609</th>\n",
       "      <td>609</td>\n",
       "      <td>610</td>\n",
       "      <td>0.091362</td>\n",
       "    </tr>\n",
       "  </tbody>\n",
       "</table>\n",
       "<p>610 rows × 3 columns</p>\n",
       "</div>"
      ],
      "text/plain": [
       "     Unnamed: 0  userID      bias\n",
       "0             0       1  0.677390\n",
       "1             1       2 -0.085523\n",
       "2             2       3 -1.295665\n",
       "3             3       4 -0.353015\n",
       "4             4       5 -0.173535\n",
       "..          ...     ...       ...\n",
       "605         605     606 -0.043915\n",
       "606         606     607  0.140626\n",
       "607         607     608 -0.339125\n",
       "608         608     609 -0.325961\n",
       "609         609     610  0.091362\n",
       "\n",
       "[610 rows x 3 columns]"
      ]
     },
     "execution_count": 33,
     "metadata": {},
     "output_type": "execute_result"
    }
   ],
   "source": [
    "V = user[[\"bias\"]].to_numpy()\n",
    "U = movie[[\"bias\"]].to_numpy()"
   ]
  },
  {
   "cell_type": "code",
   "execution_count": 6,
   "metadata": {},
   "outputs": [
    {
     "data": {
      "text/plain": [
       "userID       6.000000\n",
       "movieID    113.000000\n",
       "rating      -0.467735\n",
       "Name: 611, dtype: float64"
      ]
     },
     "execution_count": 6,
     "metadata": {},
     "output_type": "execute_result"
    }
   ],
   "source": [
    "df.loc[611]"
   ]
  },
  {
   "cell_type": "code",
   "execution_count": 20,
   "metadata": {},
   "outputs": [],
   "source": [
    "def save(df):\n",
    "    df.to_csv(\"./dataset/balanced.csv\")\n",
    "    return\n",
    "\n",
    "def convert_to_matrix(df):\n",
    "    nusers = config.nusers\n",
    "    nmovies = config.nmovies\n",
    "    ratings = np.zeros(shape=(nusers,nmovies))\n",
    "    for i in range(len(df)):\n",
    "        try:\n",
    "            userID = int(df.loc[i][0]-1)\n",
    "            movieID = int(df.loc[i][1]-1)\n",
    "            rating = float(df.loc[i][2])\n",
    "            ratings[userID, movieID] = rating\n",
    "        except:\n",
    "            print(i, df.loc[i][0]-1, df.loc[i][1]-1)\n",
    "    return ratings"
   ]
  },
  {
   "cell_type": "code",
   "execution_count": 21,
   "metadata": {},
   "outputs": [
    {
     "name": "stdout",
     "output_type": "stream",
     "text": [
      "      Name  age  total\n",
      "0   Parker   32     99\n",
      "1    Smith   28     99\n",
      "2  William   39     99\n"
     ]
    }
   ],
   "source": [
    "def learning(learning_rate, epoch, ratings):\n",
    "    V = np.zeros(ratings.shape[0])\n",
    "    U = np.zeros(ratings.shape[1])\n",
    "    for _ in range(epoch):\n",
    "        F = np.add.outer(V,U)\n",
    "        gradient_V = np.sum(ratings-F, axis = 1) - 2*config.lamda*V\n",
    "        gradient_U = np.sum(ratings-F, axis = 0) - 2*config.lamda*U\n",
    "        V += 2*learning_rate*gradient_V\n",
    "        U += 2*learning_rate*gradient_U\n",
    "    return V, U"
   ]
  },
  {
   "cell_type": "code",
   "execution_count": 33,
   "metadata": {},
   "outputs": [],
   "source": [
    "from random import *\n",
    "\n",
    "V = np.array([randint(-10, 10) for i in range(20)])\n",
    "U = np.array([randint(-10, 10) for i in range(10)])"
   ]
  },
  {
   "cell_type": "code",
   "execution_count": 39,
   "metadata": {},
   "outputs": [],
   "source": [
    "F = np.add.outer(V,U)"
   ]
  },
  {
   "cell_type": "code",
   "execution_count": 40,
   "metadata": {},
   "outputs": [
    {
     "data": {
      "text/plain": [
       "(array([-2, 10,  0,  7,  0,  2, -8, -8, -3,  2, 10, -2, -6,  2,  9,  1, -9,\n",
       "        -6,  5, -3]),\n",
       " array([ 2, -1, -2,  6, -8, -7,  8, -8, -7, -4]),\n",
       " array([[  0,  -3,  -4,   4, -10,  -9,   6, -10,  -9,  -6],\n",
       "        [ 12,   9,   8,  16,   2,   3,  18,   2,   3,   6],\n",
       "        [  2,  -1,  -2,   6,  -8,  -7,   8,  -8,  -7,  -4],\n",
       "        [  9,   6,   5,  13,  -1,   0,  15,  -1,   0,   3],\n",
       "        [  2,  -1,  -2,   6,  -8,  -7,   8,  -8,  -7,  -4],\n",
       "        [  4,   1,   0,   8,  -6,  -5,  10,  -6,  -5,  -2],\n",
       "        [ -6,  -9, -10,  -2, -16, -15,   0, -16, -15, -12],\n",
       "        [ -6,  -9, -10,  -2, -16, -15,   0, -16, -15, -12],\n",
       "        [ -1,  -4,  -5,   3, -11, -10,   5, -11, -10,  -7],\n",
       "        [  4,   1,   0,   8,  -6,  -5,  10,  -6,  -5,  -2],\n",
       "        [ 12,   9,   8,  16,   2,   3,  18,   2,   3,   6],\n",
       "        [  0,  -3,  -4,   4, -10,  -9,   6, -10,  -9,  -6],\n",
       "        [ -4,  -7,  -8,   0, -14, -13,   2, -14, -13, -10],\n",
       "        [  4,   1,   0,   8,  -6,  -5,  10,  -6,  -5,  -2],\n",
       "        [ 11,   8,   7,  15,   1,   2,  17,   1,   2,   5],\n",
       "        [  3,   0,  -1,   7,  -7,  -6,   9,  -7,  -6,  -3],\n",
       "        [ -7, -10, -11,  -3, -17, -16,  -1, -17, -16, -13],\n",
       "        [ -4,  -7,  -8,   0, -14, -13,   2, -14, -13, -10],\n",
       "        [  7,   4,   3,  11,  -3,  -2,  13,  -3,  -2,   1],\n",
       "        [ -1,  -4,  -5,   3, -11, -10,   5, -11, -10,  -7]]))"
      ]
     },
     "execution_count": 40,
     "metadata": {},
     "output_type": "execute_result"
    }
   ],
   "source": [
    "V, U, F"
   ]
  },
  {
   "cell_type": "code",
   "execution_count": 42,
   "metadata": {},
   "outputs": [
    {
     "data": {
      "text/plain": [
       "((20,), (10,), (20, 10))"
      ]
     },
     "execution_count": 42,
     "metadata": {},
     "output_type": "execute_result"
    }
   ],
   "source": [
    "V.shape, U.shape, F.shape"
   ]
  },
  {
   "cell_type": "code",
   "execution_count": 9,
   "metadata": {},
   "outputs": [],
   "source": [
    "TEST= np.array([[  0,  -3,  -4,   4, -10,  -9,   6, -10,  -9,  -6],\n",
    "                [ 12,   9,   0,  16,   2,   3,  18,   2,   3,   6],\n",
    "                [  2,  -1,  -2,   0,  -8,  -7,   8,  -8,  -7,  -4],\n",
    "                [  9,   6,   5,  13,  -1,   0,  15,  -1,   0,   3],\n",
    "                [  2,  -1,  -2,   6,  -8,  -7,   0,  -8,  -7,  -4],\n",
    "                [  4,   1,   0,   8,  -6,  -5,  10,  -6,  -5,  -2],\n",
    "                [ -6,  -9, -10,  -2, -16, -15,   0, -16, -15, -12],\n",
    "                [ -6,  -9, -10,  -2, -16, -15,   0, -16, -15, -12],\n",
    "                [  0,  -4,  -5,   3, -11, -10,   5, -11, -10,  -7],\n",
    "                [  4,   1,   0,   8,   0,  -5,  10,  -6,  -5,  -2],\n",
    "                [ 12,   9,   8,  16,   2,   3,  18,   2,   3,   6],\n",
    "                [  0,  -3,  -4,   4, -10,  -9,   6, -10,  -9,  -6],\n",
    "                [ -4,  -7,  -8,   0, -14, -13,   2, -14, -13, -10],\n",
    "                [  4,   0,   0,   8,  -6,  -5,  10,  -6,  -5,  -2],\n",
    "                [ 11,   8,   7,  15,   1,   2,  17,   1,   0,   5],\n",
    "                [  0,   0,  -1,   7,  -7,  -6,   9,  -7,  -6,  -3],\n",
    "                [ -7, -10, -11,  -3, -17, -16,   0, -17, -16, -13],\n",
    "                [ -4,  -7,  -8,   0, -14, -13,   2, -14, -13, -10],\n",
    "                [  7,   0,   3,  11,  -3,  -2,  13,  -3,  -2,   1],\n",
    "                [ -1,  -4,  -5,   0, -11, -10,   0, -11, -10,  -7]])"
   ]
  },
  {
   "cell_type": "code",
   "execution_count": 10,
   "metadata": {},
   "outputs": [
    {
     "data": {
      "text/plain": [
       "array([  0, -27,   0,  64, -20, -27, 108, -20, -27, -36])"
      ]
     },
     "execution_count": 10,
     "metadata": {},
     "output_type": "execute_result"
    }
   ],
   "source": [
    "TEST[0]*TEST[1]"
   ]
  },
  {
   "cell_type": "code",
   "execution_count": 12,
   "metadata": {},
   "outputs": [],
   "source": [
    "A = np.nonzero(TEST[0]*TEST[1])"
   ]
  },
  {
   "cell_type": "code",
   "execution_count": 18,
   "metadata": {},
   "outputs": [],
   "source": [
    "B = np.zeros(610)"
   ]
  },
  {
   "cell_type": "code",
   "execution_count": 28,
   "metadata": {},
   "outputs": [
    {
     "ename": "SyntaxError",
     "evalue": "invalid syntax (<ipython-input-28-b8abe2acd316>, line 1)",
     "output_type": "error",
     "traceback": [
      "\u001b[1;36m  File \u001b[1;32m\"<ipython-input-28-b8abe2acd316>\"\u001b[1;36m, line \u001b[1;32m1\u001b[0m\n\u001b[1;33m    C = np.where(TEST[, 1]==0)[0]\u001b[0m\n\u001b[1;37m                      ^\u001b[0m\n\u001b[1;31mSyntaxError\u001b[0m\u001b[1;31m:\u001b[0m invalid syntax\n"
     ]
    }
   ],
   "source": [
    "C = np.where(TEST[, 1]==0)[0]"
   ]
  },
  {
   "cell_type": "code",
   "execution_count": 23,
   "metadata": {},
   "outputs": [
    {
     "data": {
      "text/plain": [
       "6"
      ]
     },
     "execution_count": 23,
     "metadata": {},
     "output_type": "execute_result"
    }
   ],
   "source": [
    "np.argmax(TEST[0]*TEST[1])"
   ]
  },
  {
   "cell_type": "code",
   "execution_count": 27,
   "metadata": {},
   "outputs": [
    {
     "data": {
      "text/plain": [
       "array([1, 3, 4, 5, 6, 7, 8, 9], dtype=int64)"
      ]
     },
     "execution_count": 27,
     "metadata": {},
     "output_type": "execute_result"
    }
   ],
   "source": [
    "A[0]"
   ]
  },
  {
   "cell_type": "code",
   "execution_count": 31,
   "metadata": {},
   "outputs": [
    {
     "data": {
      "text/plain": [
       "array([ -3,   9,  -1,   6,  -1,   1,  -9,  -9,  -4,   1,   9,  -3,  -7,\n",
       "         0,   8,   0, -10,  -7,   0,  -4])"
      ]
     },
     "execution_count": 31,
     "metadata": {},
     "output_type": "execute_result"
    }
   ],
   "source": [
    "TEST[:,1]"
   ]
  },
  {
   "cell_type": "code",
   "execution_count": 34,
   "metadata": {},
   "outputs": [
    {
     "data": {
      "text/plain": [
       "array([ 3,  9,  1,  6,  1,  1,  9,  9,  4,  1,  9,  3,  7,  0,  8,  0, 10,\n",
       "        7,  0,  4])"
      ]
     },
     "execution_count": 34,
     "metadata": {},
     "output_type": "execute_result"
    }
   ],
   "source": [
    "abs(TEST[:,1])"
   ]
  },
  {
   "cell_type": "code",
   "execution_count": null,
   "metadata": {},
   "outputs": [],
   "source": []
  }
 ],
 "metadata": {
  "kernelspec": {
   "display_name": "Python 3",
   "language": "python",
   "name": "python3"
  },
  "language_info": {
   "codemirror_mode": {
    "name": "ipython",
    "version": 3
   },
   "file_extension": ".py",
   "mimetype": "text/x-python",
   "name": "python",
   "nbconvert_exporter": "python",
   "pygments_lexer": "ipython3",
   "version": "3.6.4"
  }
 },
 "nbformat": 4,
 "nbformat_minor": 2
}
